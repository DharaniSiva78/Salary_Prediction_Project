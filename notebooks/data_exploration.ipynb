import pandas as pd
import seaborn as sns
import matplotlib.pyplot as plt

df = pd.read_csv('../data/expected_ctc.csv')
df.head()

df.info()
df.describe()
df.isnull().sum()

# Visualizations
sns.histplot(df['Expected CTC'], kde=True)
sns.pairplot(df)