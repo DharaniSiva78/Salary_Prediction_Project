{
 "cells": [
  {
   "cell_type": "code",
   "execution_count": null,
   "id": "b1910b96",
   "metadata": {},
   "outputs": [],
   "source": [
    "import pandas as pd\n",
    "from src.data_preprocessing import preprocess_data\n",
    "from src.model import train_model, save_model"
   ]
  },
  {
   "cell_type": "code",
   "execution_count": null,
   "id": "c5dd398a",
   "metadata": {},
   "outputs": [],
   "source": [
    "df = pd.read_csv('../data/expected_ctc.csv')\n",
    "X, y = preprocess_data(df)"
   ]
  },
  {
   "cell_type": "code",
   "execution_count": null,
   "id": "8c5b875f",
   "metadata": {},
   "outputs": [],
   "source": [
    "model, score = train_model(X, y)\n",
    "print(f\"Cross-validated RMSE: {score}\")"
   ]
  },
  {
   "cell_type": "code",
   "execution_count": null,
   "id": "de1406d0",
   "metadata": {},
   "outputs": [],
   "source": [
    "save_model(model, '../models/best_model.pkl')"
   ]
  }
 ],
 "metadata": {},
 "nbformat": 4,
 "nbformat_minor": 5
}
